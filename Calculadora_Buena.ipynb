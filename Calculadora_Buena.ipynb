{
 "cells": [
  {
   "cell_type": "code",
   "execution_count": 1,
   "id": "1ab485cc",
   "metadata": {},
   "outputs": [],
   "source": [
    "# Hacer una calculadora simple que pida al usuario dos números y una operación (suma, resta, multiplicación, división) y muestre el resultado.\n",
    "# Liberías\n",
    "import math"
   ]
  },
  {
   "cell_type": "code",
   "execution_count": 2,
   "id": "575b95b2",
   "metadata": {},
   "outputs": [],
   "source": [
    "# Empezamos con la calculadora:\n",
    "def calculadora():\n",
    "    print(\"Bienvenido a tu calculadora\")\n",
    "    \n",
    "    # Pedir al usuario dos números\n",
    "    try:\n",
    "        num1 = float(input(\"Por favor, ingresa el primer número: \"))\n",
    "        num2 = float(input(\"Por favor, ingresa el segundo número: \"))\n",
    "    except ValueError:\n",
    "        print(\"Entrada inválida. Por favor, ingresa números válidos.\")\n",
    "        return\n",
    "    \n",
    "    # Pedir al usuario una operación\n",
    "    operacion = input(\"Por favor, ingresa la operación (suma, resta, multiplicación, división, potencia): \").strip().lower()\n",
    "\n",
    "    print(\"Calculando...\")"
   ]
  },
  {
   "cell_type": "code",
   "execution_count": 3,
   "id": "4a8cbf40",
   "metadata": {},
   "outputs": [],
   "source": [
    "#division \n",
    "def division(a, b):\n",
    "    return a / b"
   ]
  }
 ],
 "metadata": {
  "kernelspec": {
   "display_name": "Analitica",
   "language": "python",
   "name": "python3"
  },
  "language_info": {
   "codemirror_mode": {
    "name": "ipython",
    "version": 3
   },
   "file_extension": ".py",
   "mimetype": "text/x-python",
   "name": "python",
   "nbconvert_exporter": "python",
   "pygments_lexer": "ipython3",
   "version": "3.12.11"
  }
 },
 "nbformat": 4,
 "nbformat_minor": 5
}
