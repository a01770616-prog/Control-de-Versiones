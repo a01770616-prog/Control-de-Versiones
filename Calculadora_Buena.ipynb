{
 "cells": [
  {
   "cell_type": "code",
   "execution_count": null,
   "id": "1ab485cc",
   "metadata": {},
   "outputs": [],
   "source": [
    "# Hacer una calculadora simple que pida al usuario dos números y una operación (suma, resta, multiplicación, división) y muestre el resultado.\n",
    "# Liberías\n",
    "import math"
   ]
  },
  {
   "cell_type": "code",
   "execution_count": null,
   "id": "575b95b2",
   "metadata": {},
   "outputs": [],
   "source": [
    "# Empezamos con la calculadora:\n",
    "def calculadora():\n",
    "    print(\"Bienvenido a tu calculadora\")\n",
    "    \n",
    "    # Pedir al usuario dos números\n",
    "    try:\n",
    "        num1 = float(input(\"Por favor, ingresa el primer número: \"))\n",
    "        num2 = float(input(\"Por favor, ingresa el segundo número: \"))\n",
    "    except ValueError:\n",
    "        print(\"Entrada inválida. Por favor, ingresa números válidos.\")\n",
    "        return\n",
    "    \n",
    "    # Pedir al usuario una operación\n",
    "    operacion = input(\"Por favor, ingresa la operación (suma, resta, multiplicación, división, potencia): \").strip().lower()\n",
    "\n",
    "    print(\"Calculando...\")\n",
    "\n",
    "# Mini calculadora: multiplicación\n",
    "\n",
    "def calculadora_multiplicacion():\n",
    "    print(\"Bienvenido a tu calculadora (solo multiplicación)\")\n",
    "    try:\n",
    "        num1 = float(input(\"Por favor, ingresa el primer número: \"))\n",
    "        num2 = float(input(\"Por favor, ingresa el segundo número: \"))\n",
    "    except ValueError:\n",
    "        print(\"Entrada inválida. Ingresa números válidos.\")\n",
    "        return\n",
    "\n",
    "    print(\"Calculando...\")\n",
    "    resultado = num1 * num2\n",
    "    print(f\"El resultado de la multiplicación es: {resultado}\")\n",
    "\n",
    "# Ejecutar\n",
    "calculadora_multiplicacion()\n",
    "\n"
   ]
  }
 ],
 "metadata": {
  "kernelspec": {
   "display_name": "Analitica",
   "language": "python",
   "name": "python3"
  },
  "language_info": {
   "name": "python",
   "version": "3.12.11"
  }
 },
 "nbformat": 4,
 "nbformat_minor": 5
}
