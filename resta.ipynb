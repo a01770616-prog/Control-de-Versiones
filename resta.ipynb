{
 "cells": [
  {
   "cell_type": "code",
   "execution_count": null,
   "id": "d647c06a",
   "metadata": {},
   "outputs": [],
   "source": [
    "def calculadora():\n",
    "    \n",
    "    try:\n",
    "        num1 = float(input(\"Ingresa el primer número: \"))\n",
    "        num2 = float(input(\"Ingresa el segundo número: \"))\n",
    "    except ValueError:\n",
    "        print(\"Entrada inválida. Intentalo de nuevo e  ingresa solo números.\")\n",
    "        return\n",
    "    \n",
    "    operacion = input(\"Ingresa la operación (suma, resta, multiplicación, división): \").strip().lower()\n",
    "    \n",
    "    if operacion == \"resta\":\n",
    "        resultado1 = num1 - num2\n",
    "        print(f\"El total es: {resultado1}\")\n",
    "    else:\n",
    "        print(\"Por favor, elige una operación  que se menciona en ek menu .\")\n",
    "\n",
    "calculadora()"
   ]
  }
 ],
 "metadata": {
  "kernelspec": {
   "display_name": "Python 3",
   "language": "python",
   "name": "python3"
  },
  "language_info": {
   "codemirror_mode": {
    "name": "ipython",
    "version": 3
   },
   "file_extension": ".py",
   "mimetype": "text/x-python",
   "name": "python",
   "nbconvert_exporter": "python",
   "pygments_lexer": "ipython3",
   "version": "3.13.7"
  }
 },
 "nbformat": 4,
 "nbformat_minor": 5
}
