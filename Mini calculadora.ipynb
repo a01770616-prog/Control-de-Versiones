{
 "cells": [
  {
   "cell_type": "markdown",
   "id": "35090946",
   "metadata": {},
   "source": [
    "# Control de versiones con GitHub\n",
    "## Mini calculadora\n",
    "\n",
    "Valle Villegas Jesús Eduardo | A01770616"
   ]
  },
  {
   "cell_type": "code",
   "execution_count": 1,
   "id": "86231288",
   "metadata": {},
   "outputs": [],
   "source": [
    "# Hacer una calculadora simple que pida al usuario dos números y una operación (suma, resta, multiplicación, división) y muestre el resultado.\n",
    "\n",
    "# Liberías\n",
    "import sys  \n",
    "import os\n",
    "import math\n",
    "import random\n",
    "import time\n",
    "import datetime\n",
    "import re\n",
    "import numpy as np\n",
    "import pandas as pd\n",
    "import matplotlib.pyplot as plt\n",
    "import seaborn as sns     \n"
   ]
  },
  {
   "cell_type": "code",
   "execution_count": 2,
   "id": "1dd0675e",
   "metadata": {},
   "outputs": [],
   "source": [
    "# Empezamos con la caluculadora:\n",
    "def calculadora():\n",
    "    print(\"Bienvenido a tú calculadora\")\n",
    "    \n",
    "    # Pedir al usuario dos números\n",
    "    try:\n",
    "        num1 = float(input(\"Por favor, ingresa el primer número: \"))\n",
    "        num2 = float(input(\"Por favor, ingresa el segundo número: \"))\n",
    "    except ValueError:\n",
    "        print(\"Entrada inválida. Por favor, ingresa números válidos.\")\n",
    "        return\n",
    "    \n",
    "    # Pedir al usuario una operación\n",
    "    operacion = input(\"Por favor, ingresa la operación (suma, resta, multiplicación, división, potencia): \").strip().lower()\n",
    "\n",
    "    print(\"Calculando...\")"
   ]
  },
  {
   "cell_type": "code",
   "execution_count": 3,
   "id": "67d7dcb1",
   "metadata": {},
   "outputs": [
    {
     "name": "stdout",
     "output_type": "stream",
     "text": [
      "Bienvenido a tu calculadora\n",
      "Calculando...\n",
      "El resultado de la suma es: 2.0\n"
     ]
    }
   ],
   "source": [
    "# Empezamos con la calculadora:\n",
    "def calculadora():\n",
    "    print(\"Bienvenido a tu calculadora\")\n",
    "    \n",
    "    # Pedir al usuario dos números\n",
    "    try:\n",
    "        num1 = float(input(\"Por favor, ingresa el primer número: \"))\n",
    "        num2 = float(input(\"Por favor, ingresa el segundo número: \"))\n",
    "    except ValueError:\n",
    "        print(\"Entrada inválida. Por favor, ingresa números válidos.\")\n",
    "        return\n",
    "    \n",
    "    # Pedir al usuario una operación\n",
    "    operacion = input(\"Por favor, ingresa la operación (suma, resta, multiplicación, división, potencia): \").strip().lower()\n",
    "\n",
    "    print(\"Calculando...\")\n",
    "\n",
    "    # Operaciones de la calculadora\n",
    "    if operacion == \"suma\":\n",
    "        resultado = num1 + num2\n",
    "        print(f\"El resultado de la suma es: {resultado}\")\n",
    "    elif operacion == \"resta\":\n",
    "        resultado = num1 - num2\n",
    "        print(f\"El resultado de la resta es: {resultado}\")\n",
    "    elif operacion == \"multiplicación\":     \n",
    "        resultado = num1 * num2\n",
    "        print(f\"El resultado de la multiplicación es: {resultado}\")\n",
    "    elif operacion == \"división\":\n",
    "        if num2 != 0:\n",
    "            resultado = num1 / num2\n",
    "            print(f\"El resultado de la división es: {resultado}\")\n",
    "        else:\n",
    "            print(\"Error: No se puede dividir por cero.\")\n",
    "    elif operacion == \"potencia\":\n",
    "        resultado = num1 ** num2\n",
    "        print(f\"El resultado de {num1} elevado a la {num2} es: {resultado}\")\n",
    "    else:\n",
    "        print(\"Operación inválida. Por favor, ingresa una operación válida.\")\n",
    "\n",
    "# Ejecutar la calculadora\n",
    "calculadora()\n"
   ]
  }
 ],
 "metadata": {
  "kernelspec": {
   "display_name": "base",
   "language": "python",
   "name": "python3"
  },
  "language_info": {
   "codemirror_mode": {
    "name": "ipython",
    "version": 3
   },
   "file_extension": ".py",
   "mimetype": "text/x-python",
   "name": "python",
   "nbconvert_exporter": "python",
   "pygments_lexer": "ipython3",
   "version": "3.13.5"
  }
 },
 "nbformat": 4,
 "nbformat_minor": 5
}
