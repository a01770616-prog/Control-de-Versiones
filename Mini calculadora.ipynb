{
 "cells": [
  {
   "cell_type": "markdown",
   "id": "35090946",
   "metadata": {},
   "source": [
    "# Control de versiones con GitHub\n",
    "## Mini calculadora\n",
    "\n",
    "Valle Villegas Jesús Eduardo | A01770616"
   ]
  },
  {
   "cell_type": "code",
   "execution_count": null,
   "id": "86231288",
   "metadata": {},
   "outputs": [],
   "source": [
    "# Hacer una calculadora simple que pida al usuario dos números y una operación (suma, resta, multiplicación, división) y muestre el resultado.\n",
    "\n",
    "# Liberías\n",
    "import sys\n",
    "import os\n",
    "import math\n",
    "import random\n",
    "import time\n",
    "import datetime\n",
    "import re\n",
    "import numpy as np\n",
    "import pandas as pd\n",
    "import matplotlib.pyplot as plt\n",
    "import seaborn as sns\n"
   ]
  },
  {
   "cell_type": "code",
   "execution_count": null,
   "id": "1dd0675e",
   "metadata": {},
   "outputs": [],
   "source": [
    "# Función para multiplicar dos números\n",
    "def multiplicar(num1, num2):\n",
    "    return num1 * num2"
   ]
  }
 ],
 "metadata": {
  "kernelspec": {
   "display_name": "Analitica",
   "language": "python",
   "name": "python3"
  },
  "language_info": {
   "name": "python",
   "version": "3.12.11"
  }
 },
 "nbformat": 4,
 "nbformat_minor": 5
}
